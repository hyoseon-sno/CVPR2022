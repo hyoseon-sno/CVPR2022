{
 "cells": [
  {
   "cell_type": "markdown",
   "id": "c4f15c46",
   "metadata": {},
   "source": [
    "#  Data Encoding \n",
    "\n",
    "### data embeding"
   ]
  },
  {
   "cell_type": "markdown",
   "id": "72270fbe",
   "metadata": {},
   "source": [
    " - Basis Encoding"
   ]
  },
  {
   "cell_type": "code",
   "execution_count": 14,
   "id": "6840befe",
   "metadata": {},
   "outputs": [],
   "source": [
    "import pennylane as qml"
   ]
  },
  {
   "cell_type": "code",
   "execution_count": 18,
   "id": "6375b434",
   "metadata": {},
   "outputs": [],
   "source": [
    "N = 3\n",
    "wires = range(N)\n",
    "dev = qml.device(\"default.qubit\", wires)\n",
    "\n",
    "@qml.qnode(dev)\n",
    "def basis_circuit(b):\n",
    "    qml.BasisEmbedding(b, wires)\n",
    "    return qml.state()"
   ]
  },
  {
   "cell_type": "code",
   "execution_count": 16,
   "id": "214f5553",
   "metadata": {},
   "outputs": [
    {
     "data": {
      "text/plain": [
       "tensor([0.+0.j, 0.+0.j, 0.+0.j, 0.+0.j, 0.+0.j, 0.+0.j, 0.+0.j, 1.+0.j], requires_grad=True)"
      ]
     },
     "execution_count": 16,
     "metadata": {},
     "output_type": "execute_result"
    }
   ],
   "source": [
    "basis_circuit([1, 1, 1])"
   ]
  },
  {
   "cell_type": "code",
   "execution_count": 11,
   "id": "826eab68",
   "metadata": {},
   "outputs": [
    {
     "name": "stdout",
     "output_type": "stream",
     "text": [
      "<function draw.<locals>.wrapper at 0x000001ED1CD0BB80>\n"
     ]
    }
   ],
   "source": [
    "print(qml.draw(basis_circuit))"
   ]
  },
  {
   "cell_type": "code",
   "execution_count": 19,
   "id": "0a3467cb",
   "metadata": {},
   "outputs": [
    {
     "ename": "TypeError",
     "evalue": "'QNode' object is not subscriptable",
     "output_type": "error",
     "traceback": [
      "\u001b[1;31m---------------------------------------------------------------------------\u001b[0m",
      "\u001b[1;31mTypeError\u001b[0m                                 Traceback (most recent call last)",
      "\u001b[1;32m~\\AppData\\Local\\Temp\\ipykernel_9236\\3341556482.py\u001b[0m in \u001b[0;36m<module>\u001b[1;34m\u001b[0m\n\u001b[1;32m----> 1\u001b[1;33m \u001b[0mprint\u001b[0m\u001b[1;33m(\u001b[0m\u001b[0mqml\u001b[0m\u001b[1;33m.\u001b[0m\u001b[0mdraw\u001b[0m\u001b[1;33m(\u001b[0m\u001b[0mbasis_circuit\u001b[0m\u001b[1;33m[\u001b[0m\u001b[1;36m1\u001b[0m\u001b[1;33m,\u001b[0m\u001b[1;36m1\u001b[0m\u001b[1;33m,\u001b[0m\u001b[1;36m1\u001b[0m\u001b[1;33m]\u001b[0m\u001b[1;33m)\u001b[0m\u001b[1;33m)\u001b[0m\u001b[1;33m\u001b[0m\u001b[1;33m\u001b[0m\u001b[0m\n\u001b[0m",
      "\u001b[1;31mTypeError\u001b[0m: 'QNode' object is not subscriptable"
     ]
    }
   ],
   "source": [
    "print(qml.draw(basis_circuit[1,1,1]))"
   ]
  },
  {
   "cell_type": "markdown",
   "id": "b693713d",
   "metadata": {},
   "source": [
    "위 코드는 뭔가 잘못됨. 왜? Pennylane slack에 물어둠."
   ]
  },
  {
   "cell_type": "code",
   "execution_count": 21,
   "id": "8a789303",
   "metadata": {},
   "outputs": [],
   "source": [
    "draw = qml.draw(basis_circuit)"
   ]
  },
  {
   "cell_type": "code",
   "execution_count": 22,
   "id": "b21b4f40",
   "metadata": {},
   "outputs": [
    {
     "ename": "TypeError",
     "evalue": "'function' object is not subscriptable",
     "output_type": "error",
     "traceback": [
      "\u001b[1;31m---------------------------------------------------------------------------\u001b[0m",
      "\u001b[1;31mTypeError\u001b[0m                                 Traceback (most recent call last)",
      "\u001b[1;32m~\\AppData\\Local\\Temp\\ipykernel_9236\\1232914346.py\u001b[0m in \u001b[0;36m<module>\u001b[1;34m\u001b[0m\n\u001b[1;32m----> 1\u001b[1;33m \u001b[0mprint\u001b[0m\u001b[1;33m(\u001b[0m\u001b[0mdraw\u001b[0m\u001b[1;33m[\u001b[0m\u001b[1;36m1\u001b[0m\u001b[1;33m,\u001b[0m\u001b[1;36m1\u001b[0m\u001b[1;33m,\u001b[0m\u001b[1;36m1\u001b[0m\u001b[1;33m]\u001b[0m\u001b[1;33m)\u001b[0m\u001b[1;33m\u001b[0m\u001b[1;33m\u001b[0m\u001b[0m\n\u001b[0m",
      "\u001b[1;31mTypeError\u001b[0m: 'function' object is not subscriptable"
     ]
    }
   ],
   "source": [
    "print(draw[1,1,1])"
   ]
  },
  {
   "cell_type": "code",
   "execution_count": 23,
   "id": "19037721",
   "metadata": {},
   "outputs": [
    {
     "name": "stdout",
     "output_type": "stream",
     "text": [
      " 0: ──X──╭┤ State \n",
      " 1: ──X──├┤ State \n",
      " 2: ──X──╰┤ State \n",
      "\n"
     ]
    }
   ],
   "source": [
    "params=[1,1,1]\n",
    "draw=qml.draw(basis_circuit)\n",
    "print(draw(params))"
   ]
  },
  {
   "cell_type": "markdown",
   "id": "4f5ca2de",
   "metadata": {},
   "source": [
    "- qml.BasisEmbedding Docs Example\n",
    "https://docs.pennylane.ai/en/latest/code/api/pennylane.BasisEmbedding.html"
   ]
  },
  {
   "cell_type": "code",
   "execution_count": 25,
   "id": "68e4e22f",
   "metadata": {},
   "outputs": [],
   "source": [
    "dev = qml.device('default.qubit', wires=3)\n",
    "\n",
    "@qml.qnode(dev)\n",
    "def circuit(feature_vector):\n",
    "    qml.BasisEmbedding(features=feature_vector, wires = range(3))\n",
    "    return qml.state()\n",
    "\n",
    "X = [1, 1, 1]"
   ]
  },
  {
   "cell_type": "code",
   "execution_count": 28,
   "id": "5acc80ca",
   "metadata": {},
   "outputs": [
    {
     "name": "stdout",
     "output_type": "stream",
     "text": [
      " 0: ──X──╭┤ State \n",
      " 1: ──X──├┤ State \n",
      " 2: ──X──╰┤ State \n",
      "\n"
     ]
    }
   ],
   "source": [
    "print(qml.draw(circuit, expansion_strategy = \"device\")(X))"
   ]
  },
  {
   "cell_type": "code",
   "execution_count": null,
   "id": "dc7e2dca",
   "metadata": {},
   "outputs": [],
   "source": []
  }
 ],
 "metadata": {
  "kernelspec": {
   "display_name": "Python 3 (ipykernel)",
   "language": "python",
   "name": "python3"
  },
  "language_info": {
   "codemirror_mode": {
    "name": "ipython",
    "version": 3
   },
   "file_extension": ".py",
   "mimetype": "text/x-python",
   "name": "python",
   "nbconvert_exporter": "python",
   "pygments_lexer": "ipython3",
   "version": "3.9.13"
  }
 },
 "nbformat": 4,
 "nbformat_minor": 5
}
